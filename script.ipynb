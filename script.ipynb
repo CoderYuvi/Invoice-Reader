{
 "cells": [
  {
   "cell_type": "code",
   "execution_count": 3,
   "id": "7de7abea",
   "metadata": {},
   "outputs": [
    {
     "name": "stdout",
     "output_type": "stream",
     "text": [
      "Collecting PyMuPDF\n",
      "  Downloading PyMuPDF-1.23.8-cp38-none-win_amd64.whl (3.5 MB)\n",
      "Collecting PyMuPDFb==1.23.7\n",
      "  Downloading PyMuPDFb-1.23.7-py3-none-win_amd64.whl (24.5 MB)\n",
      "Installing collected packages: PyMuPDFb, PyMuPDF\n",
      "Successfully installed PyMuPDF-1.23.8 PyMuPDFb-1.23.7\n"
     ]
    }
   ],
   "source": [
    "!pip install PyMuPDF"
   ]
  },
  {
   "cell_type": "code",
   "execution_count": 7,
   "id": "22ecfc3f",
   "metadata": {},
   "outputs": [
    {
     "name": "stdout",
     "output_type": "stream",
     "text": [
      "Invoice Information for invoiceFolder\\invoice.pdf:\n",
      "Total Amount: $93.50\n",
      "\n",
      "Invoice Information for invoiceFolder\\wordpress-pdf-invoice-plugin-sample.pdf:\n",
      "Total Amount: $93.50\n",
      "\n"
     ]
    }
   ],
   "source": [
    "import os\n",
    "import fitz  # PyMuPDF library\n",
    "import re\n",
    "\n",
    "def extract_text_from_pdf(pdf_path):\n",
    "    doc = fitz.open(pdf_path)\n",
    "    text = \"\"\n",
    "\n",
    "    for page_num in range(doc.page_count):\n",
    "        page = doc[page_num]\n",
    "        text += page.get_text()\n",
    "\n",
    "    doc.close()\n",
    "    return text\n",
    "\n",
    "def extract_invoice_information(text):\n",
    "    # Add your logic to extract specific information from the text\n",
    "    # For example, you can use regular expressions to find patterns in the text.\n",
    "\n",
    "    # Sample regular expression to find a dollar amount\n",
    "    amount_match = re.search(r'\\$\\s?\\d+(?:,\\d{3})*(?:\\.\\d{2})?', text)\n",
    "    amount = amount_match.group() if amount_match else \"Not found\"\n",
    "\n",
    "    return {\"total_amount\": amount}\n",
    "\n",
    "def process_invoices_in_folder(folder_path):\n",
    "    all_invoice_info = []\n",
    "\n",
    "    for filename in os.listdir(folder_path):\n",
    "        if filename.endswith(\".pdf\"):\n",
    "            pdf_path = os.path.join(folder_path, filename)\n",
    "            pdf_text = extract_text_from_pdf(pdf_path)\n",
    "            invoice_info = extract_invoice_information(pdf_text)\n",
    "            all_invoice_info.append({\"pdf_path\": pdf_path, \"invoice_info\": invoice_info})\n",
    "\n",
    "    return all_invoice_info\n",
    "\n",
    "if __name__ == \"__main__\":\n",
    "    folder_path = \"invoiceFolder\"\n",
    "\n",
    "    all_invoices_info = process_invoices_in_folder(folder_path)\n",
    "\n",
    "    for invoice_info in all_invoices_info:\n",
    "        print(f\"Invoice Information for {invoice_info['pdf_path']}:\")\n",
    "        print(\"Total Amount:\", invoice_info['invoice_info']['total_amount'])\n",
    "        print()\n"
   ]
  }
 ],
 "metadata": {
  "kernelspec": {
   "display_name": "Python 3",
   "language": "python",
   "name": "python3"
  },
  "language_info": {
   "codemirror_mode": {
    "name": "ipython",
    "version": 3
   },
   "file_extension": ".py",
   "mimetype": "text/x-python",
   "name": "python",
   "nbconvert_exporter": "python",
   "pygments_lexer": "ipython3",
   "version": "3.8.8"
  }
 },
 "nbformat": 4,
 "nbformat_minor": 5
}
